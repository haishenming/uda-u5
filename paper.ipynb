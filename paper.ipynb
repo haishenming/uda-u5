{
 "cells": [
  {
   "cell_type": "markdown",
   "metadata": {
    "collapsed": true
   },
   "source": [
    "# 数据分析"
   ]
  },
  {
   "cell_type": "markdown",
   "metadata": {},
   "source": [
    "### datas 数据字段\n",
    "- PassengerId 乘客ID\n",
    "- Survived 是否幸存 0 = No, 1 = Yes\n",
    "- Pclass 船票类型 1 = 1st, 2 = 2nd, 3 = 3rd\n",
    "- Name 乘客姓名\n",
    "- Sex 乘客性别\n",
    "- Age 乘客年龄\n",
    "- SibSp 船上的兄弟姊妹/配偶数量\n",
    "- Parch 船上的父母/孩子数量\n",
    "- Ticket 船票号"
   ]
  },
  {
   "cell_type": "markdown",
   "metadata": {},
   "source": [
    "## 提出问题\n",
    " - 是哪些因素决定了乘客的生存与否，分别是正向的还是负向的，影响力多大。"
   ]
  },
  {
   "cell_type": "code",
   "execution_count": 2,
   "metadata": {},
   "outputs": [],
   "source": [
    "# 引入需要的模块，读入数据\n",
    "\n",
    "import numpy as np\n",
    "import pandas as pd\n",
    "\n",
    "DATA_PATH = \"datas.csv\"\n",
    "\n",
    "\n",
    "datas = pd.read_csv(DATA_PATH)"
   ]
  },
  {
   "cell_type": "markdown",
   "metadata": {},
   "source": [
    "## 基本统计学值"
   ]
  },
  {
   "cell_type": "code",
   "execution_count": 11,
   "metadata": {
    "collapsed": true
   },
   "outputs": [
    {
     "name": "stdout",
     "output_type": "stream",
     "text": [
      "男女比例为：1.0 : 0.5441941074523396\n"
     ]
    }
   ],
   "source": [
    "# 男女比例\n",
    "m_f_count = datas[\"Sex\"].value_counts()\n",
    "print(\"男女比例为：{} : {}\".format(m_f_count[\"male\"]/m_f_count[\"male\"], m_f_count[\"female\"]/m_f_count[\"male\"]))\n",
    "\n",
    "# 各个年龄数值\n",
    "\n",
    "# 平均年龄\n",
    "\n",
    "# 平均船上兄弟姊妹/配偶数量\n",
    "\n",
    "# 平均船上父母/子女数量\n",
    "\n",
    "# 船上各等级仓位比例\n",
    "\n",
    "# 生存率\n",
    "\n",
    "# 男性生存率\n",
    "\n",
    "# 女性生存率\n",
    "\n",
    "# 各个年龄段的生存率\n",
    "\n",
    "# 各个等级仓位的生存率\n",
    "\n",
    "# 独自上船的乘客（无兄弟姊妹/配偶/父母/子女在船上的乘客）的生存率\n",
    "\n",
    "# 有同伴上船的乘客（无兄弟姊妹/配偶/父母/子女在船上的乘客）的生存率\n"
   ]
  },
  {
   "cell_type": "code",
   "execution_count": null,
   "metadata": {},
   "outputs": [],
   "source": []
  }
 ],
 "metadata": {
  "kernelspec": {
   "display_name": "Python 2",
   "language": "python",
   "name": "python2"
  },
  "language_info": {
   "codemirror_mode": {
    "name": "ipython",
    "version": 2
   },
   "file_extension": ".py",
   "mimetype": "text/x-python",
   "name": "python",
   "nbconvert_exporter": "python",
   "pygments_lexer": "ipython2",
   "version": "2.7.6"
  }
 },
 "nbformat": 4,
 "nbformat_minor": 0
}
